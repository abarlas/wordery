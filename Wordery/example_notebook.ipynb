{
 "cells": [
  {
   "cell_type": "code",
   "execution_count": 0,
   "metadata": {
    "application/vnd.databricks.v1+cell": {
     "inputWidgets": {},
     "nuid": "3c3e90ef-f198-4c0d-a529-1976d54a085f",
     "showTitle": false,
     "title": ""
    }
   },
   "outputs": [
    {
     "data": {
      "text/html": [
       "<style scoped>\n",
       "  .ansiout {\n",
       "    display: block;\n",
       "    unicode-bidi: embed;\n",
       "    white-space: pre-wrap;\n",
       "    word-wrap: break-word;\n",
       "    word-break: break-all;\n",
       "    font-family: \"Source Code Pro\", \"Menlo\", monospace;;\n",
       "    font-size: 13px;\n",
       "    color: #555;\n",
       "    margin-left: 4px;\n",
       "    line-height: 19px;\n",
       "  }\n",
       "</style>\n",
       "<div class=\"ansiout\">Python interpreter will be restarted.\n",
       "Requirement already satisfied: autocorrect in /local_disk0/.ephemeral_nfs/envs/pythonEnv-f3c75ea9-7a26-472f-82e3-0cb944b4cf8c/lib/python3.8/site-packages (2.6.1)\n",
       "WARNING: You are using pip version 21.0.1; however, version 22.0.4 is available.\n",
       "You should consider upgrading via the &#39;/local_disk0/.ephemeral_nfs/envs/pythonEnv-f3c75ea9-7a26-472f-82e3-0cb944b4cf8c/bin/python -m pip install --upgrade pip&#39; command.\n",
       "Python interpreter will be restarted.\n",
       "</div>"
      ]
     },
     "metadata": {
      "application/vnd.databricks.v1+output": {
       "addedWidgets": {},
       "arguments": {},
       "data": "<div class=\"ansiout\">Python interpreter will be restarted.\nRequirement already satisfied: autocorrect in /local_disk0/.ephemeral_nfs/envs/pythonEnv-f3c75ea9-7a26-472f-82e3-0cb944b4cf8c/lib/python3.8/site-packages (2.6.1)\nWARNING: You are using pip version 21.0.1; however, version 22.0.4 is available.\nYou should consider upgrading via the &#39;/local_disk0/.ephemeral_nfs/envs/pythonEnv-f3c75ea9-7a26-472f-82e3-0cb944b4cf8c/bin/python -m pip install --upgrade pip&#39; command.\nPython interpreter will be restarted.\n</div>",
       "datasetInfos": [],
       "metadata": {},
       "removedWidgets": [],
       "type": "html"
      }
     },
     "output_type": "display_data"
    }
   ],
   "source": [
    "%pip install autocorrect"
   ]
  },
  {
   "cell_type": "code",
   "execution_count": 0,
   "metadata": {
    "application/vnd.databricks.v1+cell": {
     "inputWidgets": {},
     "nuid": "d7f4b88e-5d23-4627-bc48-a3f837e07006",
     "showTitle": false,
     "title": ""
    }
   },
   "outputs": [
    {
     "data": {
      "text/html": [
       "<style scoped>\n",
       "  .ansiout {\n",
       "    display: block;\n",
       "    unicode-bidi: embed;\n",
       "    white-space: pre-wrap;\n",
       "    word-wrap: break-word;\n",
       "    word-break: break-all;\n",
       "    font-family: \"Source Code Pro\", \"Menlo\", monospace;;\n",
       "    font-size: 13px;\n",
       "    color: #555;\n",
       "    margin-left: 4px;\n",
       "    line-height: 19px;\n",
       "  }\n",
       "</style>\n",
       "<div class=\"ansiout\">[nltk_data] Downloading package averaged_perceptron_tagger to\n",
       "[nltk_data]     /root/nltk_data...\n",
       "[nltk_data]   Unzipping taggers/averaged_perceptron_tagger.zip.\n",
       "[nltk_data] Downloading package wordnet to /root/nltk_data...\n",
       "[nltk_data]   Unzipping corpora/wordnet.zip.\n",
       "</div>"
      ]
     },
     "metadata": {
      "application/vnd.databricks.v1+output": {
       "addedWidgets": {},
       "arguments": {},
       "data": "<div class=\"ansiout\">[nltk_data] Downloading package averaged_perceptron_tagger to\n[nltk_data]     /root/nltk_data...\n[nltk_data]   Unzipping taggers/averaged_perceptron_tagger.zip.\n[nltk_data] Downloading package wordnet to /root/nltk_data...\n[nltk_data]   Unzipping corpora/wordnet.zip.\n</div>",
       "datasetInfos": [],
       "metadata": {},
       "removedWidgets": [],
       "type": "html"
      }
     },
     "output_type": "display_data"
    }
   ],
   "source": [
    "import re\n",
    "import numpy as np\n",
    "import pandas as pd\n",
    "import seaborn as sns\n",
    "import matplotlib.pyplot as plt\n",
    "from collections import defaultdict\n",
    "import time\n",
    "  \n",
    "import preprocessing as pp"
   ]
  },
  {
   "cell_type": "markdown",
   "metadata": {
    "application/vnd.databricks.v1+cell": {
     "inputWidgets": {},
     "nuid": "f1d3c1fb-946c-4495-b97a-fd47fffc3515",
     "showTitle": false,
     "title": ""
    }
   },
   "source": [
    "## Text cleaning\n",
    "\n",
    "Cleaning is an important part of text preprocessing. Our cleaning function helps remove things like HTML formatting, newline characters, simplify units, remove numbers, and make everything lowercase if desired.\n",
    "\n",
    "We have to first define what regex pattern we are looking for and what to replace it with, for example: `('\\\\n', ' ')` will replace newline characters with empty spaces."
   ]
  },
  {
   "cell_type": "code",
   "execution_count": 0,
   "metadata": {
    "application/vnd.databricks.v1+cell": {
     "inputWidgets": {},
     "nuid": "7c0e4766-1198-4da9-9f65-d780c2c9834f",
     "showTitle": false,
     "title": ""
    }
   },
   "outputs": [
    {
     "data": {
      "text/html": [
       "<style scoped>\n",
       "  .ansiout {\n",
       "    display: block;\n",
       "    unicode-bidi: embed;\n",
       "    white-space: pre-wrap;\n",
       "    word-wrap: break-word;\n",
       "    word-break: break-all;\n",
       "    font-family: \"Source Code Pro\", \"Menlo\", monospace;;\n",
       "    font-size: 13px;\n",
       "    color: #555;\n",
       "    margin-left: 4px;\n",
       "    line-height: 19px;\n",
       "  }\n",
       "</style>\n",
       "<div class=\"ansiout\"></div>"
      ]
     },
     "metadata": {
      "application/vnd.databricks.v1+output": {
       "addedWidgets": {},
       "arguments": {},
       "data": "<div class=\"ansiout\"></div>",
       "datasetInfos": [],
       "metadata": {},
       "removedWidgets": [],
       "type": "html"
      }
     },
     "output_type": "display_data"
    }
   ],
   "source": [
    "to_replace_paula = [('\\\\n', ' '), # remove newline characters which ruin everything\n",
    "             ('\\\\r', ' '), # remove carriage returns which also wreak havoc\n",
    "             ('\\\\t', ' '), # remove tab\n",
    "             ('<.*?>', ' '), # remove everything between <>, HTML formatting\n",
    "             ('\\[.*?\\]', ' '), # remove everything between []\n",
    "             ('\\/\\*.*?;\\}', ' '), # remove extra stubborn font formatting\n",
    "             ('en-gb', ' '), # language formatting\n",
    "             ('x-none', ' '), # other formatting\n",
    "             ('\\\\xa0', ' '), # remove Latin1 non-breaking space\n",
    "             ('&.*?;', ' '), # remove everything between & and ;\n",
    "             ('tt\\.', ' '), # remove instances of tt., HTML related formatting?\n",
    "             ('tffs\\.', ' '), # remove instances of tffs.\n",
    "             # separating units from numbers:\n",
    "             ('\\d{1}mm\\W{1}', ' mm '),\n",
    "             ('\\d{1}cm\\W{1}', ' cm '),\n",
    "             ('ω', 'w'),\n",
    "             ('\\d{1}kw\\W{1}', ' kw '),\n",
    "             # remove anything that has a number in it:\n",
    "             ('\\S*\\d\\S*', ' '),]"
   ]
  },
  {
   "cell_type": "code",
   "execution_count": 0,
   "metadata": {
    "application/vnd.databricks.v1+cell": {
     "inputWidgets": {},
     "nuid": "cc6d8615-d14f-430d-b75e-344ea40516e3",
     "showTitle": false,
     "title": ""
    }
   },
   "outputs": [
    {
     "data": {
      "text/html": [
       "<style scoped>\n",
       "  .ansiout {\n",
       "    display: block;\n",
       "    unicode-bidi: embed;\n",
       "    white-space: pre-wrap;\n",
       "    word-wrap: break-word;\n",
       "    word-break: break-all;\n",
       "    font-family: \"Source Code Pro\", \"Menlo\", monospace;;\n",
       "    font-size: 13px;\n",
       "    color: #555;\n",
       "    margin-left: 4px;\n",
       "    line-height: 19px;\n",
       "  }\n",
       "</style>\n",
       "<div class=\"ansiout\">Out[8]: &#39;cp car allegation of whistle defect train car east of arnos grove t op whistle not stopping continues blowing t t found whistle working well whistle continues sounding for seconds when whistle does stop a pop can be heard from whistle valve unable to reset valve&#39;</div>"
      ]
     },
     "metadata": {
      "application/vnd.databricks.v1+output": {
       "addedWidgets": {},
       "arguments": {},
       "data": "<div class=\"ansiout\">Out[8]: &#39;cp car allegation of whistle defect train car east of arnos grove t op whistle not stopping continues blowing t t found whistle working well whistle continues sounding for seconds when whistle does stop a pop can be heard from whistle valve unable to reset valve&#39;</div>",
       "datasetInfos": [],
       "metadata": {},
       "removedWidgets": [],
       "type": "html"
      }
     },
     "output_type": "display_data"
    }
   ],
   "source": [
    "df['description'] = pp.clean_text(df['description'], to_replace_paula)\n",
    "df['description'].values[5]"
   ]
  },
  {
   "cell_type": "markdown",
   "metadata": {
    "application/vnd.databricks.v1+cell": {
     "inputWidgets": {},
     "nuid": "565a01df-60d0-4094-acfb-c4992c03be87",
     "showTitle": false,
     "title": ""
    }
   },
   "source": [
    "## Stopword removal\n",
    "\n",
    "Stopwords are common words that do not add any information to the model about specific categories, and removing them can improve perfformance. It's important to customise this to your specific problem."
   ]
  },
  {
   "cell_type": "code",
   "execution_count": 0,
   "metadata": {
    "application/vnd.databricks.v1+cell": {
     "inputWidgets": {},
     "nuid": "780a0bcb-809c-4a9c-9766-2d07c419c33a",
     "showTitle": false,
     "title": ""
    }
   },
   "outputs": [
    {
     "data": {
      "text/html": [
       "<style scoped>\n",
       "  .ansiout {\n",
       "    display: block;\n",
       "    unicode-bidi: embed;\n",
       "    white-space: pre-wrap;\n",
       "    word-wrap: break-word;\n",
       "    word-break: break-all;\n",
       "    font-family: \"Source Code Pro\", \"Menlo\", monospace;;\n",
       "    font-size: 13px;\n",
       "    color: #555;\n",
       "    margin-left: 4px;\n",
       "    line-height: 19px;\n",
       "  }\n",
       "</style>\n",
       "<div class=\"ansiout\"></div>"
      ]
     },
     "metadata": {
      "application/vnd.databricks.v1+output": {
       "addedWidgets": {},
       "arguments": {},
       "data": "<div class=\"ansiout\"></div>",
       "datasetInfos": [],
       "metadata": {},
       "removedWidgets": [],
       "type": "html"
      }
     },
     "output_type": "display_data"
    }
   ],
   "source": [
    "stopwords = ['a', 'b', 'c', 'd', 'e', 'f', 'g' 'h', 'i', 'j', 'k', 'l', 'm', 'n', 'o', 'p', 'q', 'r', 's', 't', 'u', 'v', 'w', 'x', 'z' \\\n",
    "             'about', 'also', 'although', 'at', 'all', 'at', 'as', 'an', 'any', 'anyway', 'are', 'and', 'by', 'be', 'but', 'because', 'been', \\\n",
    "             'being', 'can', 'cannot', 'could', 'do', 'done', 'else', 'for', 'from', 'get', 'go', 'had', 'has', 'have', 'here', 'how', 'if', \\\n",
    "             'in', 'is', 'it', 'no', 'nor', 'not', 'now', 'of', 'ok', 'on', 'or', 'out', 'so', 'than', 'that', 'the', 'then', 'there', 'these', \\\n",
    "             'this', 'to', 'was', 'we', 'were', 'why', 'will', 'with', 'would', 'th', 'tfl', 'tms', 'gov', 'uk' 'tel', 'pm', 'am', 'gmt', 'bst', \\\n",
    "             'hrs', 'jan', 'january', 'feb', 'february', 'mar', 'apr', 'april', 'may', 'jun', 'june', 'jul', 'july', 'aug', 'august', 'sep' \\\n",
    "             'september', 'oct', 'october', 'nov', 'november', 'dec', 'december', 'mon', 'monday', 'tue', 'tuesday', 'wed', 'wednesday' \\\n",
    "             'thu', 'thursday', 'fri', 'friday', 'sat', 'saturday', 'sun', 'sunday']"
   ]
  },
  {
   "cell_type": "code",
   "execution_count": 0,
   "metadata": {
    "application/vnd.databricks.v1+cell": {
     "inputWidgets": {},
     "nuid": "9c34a3ec-bb84-4011-bbc3-5adb4d4339a1",
     "showTitle": false,
     "title": ""
    }
   },
   "outputs": [
    {
     "data": {
      "text/html": [
       "<style scoped>\n",
       "  .ansiout {\n",
       "    display: block;\n",
       "    unicode-bidi: embed;\n",
       "    white-space: pre-wrap;\n",
       "    word-wrap: break-word;\n",
       "    word-break: break-all;\n",
       "    font-family: \"Source Code Pro\", \"Menlo\", monospace;;\n",
       "    font-size: 13px;\n",
       "    color: #555;\n",
       "    margin-left: 4px;\n",
       "    line-height: 19px;\n",
       "  }\n",
       "</style>\n",
       "<div class=\"ansiout\">Out[10]: &#39;cp car allegation whistle defect train car east arnos grove op whistle stopping continues blowing found whistle working well whistle continues sounding seconds when whistle does stop pop heard whistle valve unable reset valve&#39;</div>"
      ]
     },
     "metadata": {
      "application/vnd.databricks.v1+output": {
       "addedWidgets": {},
       "arguments": {},
       "data": "<div class=\"ansiout\">Out[10]: &#39;cp car allegation whistle defect train car east arnos grove op whistle stopping continues blowing found whistle working well whistle continues sounding seconds when whistle does stop pop heard whistle valve unable reset valve&#39;</div>",
       "datasetInfos": [],
       "metadata": {},
       "removedWidgets": [],
       "type": "html"
      }
     },
     "output_type": "display_data"
    }
   ],
   "source": [
    "df['description'] = pp.remove_stopwords(df['description'], stopwords)\n",
    "df['description'].values[5]"
   ]
  },
  {
   "cell_type": "markdown",
   "metadata": {
    "application/vnd.databricks.v1+cell": {
     "inputWidgets": {},
     "nuid": "a4e94b09-acc0-482d-a32b-0325f2aeb457",
     "showTitle": false,
     "title": ""
    }
   },
   "source": [
    "## Spellcheck\n",
    "\n",
    "Spellchecking can help decrease the size of your vocabulary by grouping together words that should have been the same, but were accidentally misspelled."
   ]
  },
  {
   "cell_type": "code",
   "execution_count": 0,
   "metadata": {
    "application/vnd.databricks.v1+cell": {
     "inputWidgets": {},
     "nuid": "1eb7ce7a-001f-4dde-aac2-bb428d3c85f7",
     "showTitle": false,
     "title": ""
    }
   },
   "outputs": [
    {
     "data": {
      "text/html": [
       "<style scoped>\n",
       "  .ansiout {\n",
       "    display: block;\n",
       "    unicode-bidi: embed;\n",
       "    white-space: pre-wrap;\n",
       "    word-wrap: break-word;\n",
       "    word-break: break-all;\n",
       "    font-family: \"Source Code Pro\", \"Menlo\", monospace;;\n",
       "    font-size: 13px;\n",
       "    color: #555;\n",
       "    margin-left: 4px;\n",
       "    line-height: 19px;\n",
       "  }\n",
       "</style>\n",
       "<div class=\"ansiout\">Out[11]: &#39;cp car allegation whistle defect train car east anos grove op whistle stopping continues blowing found whistle working well whistle continues sounding seconds when whistle does stop pop heard whistle valve unable reset valve&#39;</div>"
      ]
     },
     "metadata": {
      "application/vnd.databricks.v1+output": {
       "addedWidgets": {},
       "arguments": {},
       "data": "<div class=\"ansiout\">Out[11]: &#39;cp car allegation whistle defect train car east anos grove op whistle stopping continues blowing found whistle working well whistle continues sounding seconds when whistle does stop pop heard whistle valve unable reset valve&#39;</div>",
       "datasetInfos": [],
       "metadata": {},
       "removedWidgets": [],
       "type": "html"
      }
     },
     "output_type": "display_data"
    }
   ],
   "source": [
    "df['description'] = pp.spellcheck(df, 'description', 5)\n",
    "df['description'].values[5]"
   ]
  },
  {
   "cell_type": "markdown",
   "metadata": {
    "application/vnd.databricks.v1+cell": {
     "inputWidgets": {},
     "nuid": "fe69587b-35f3-4962-a0e9-01aa90b21d40",
     "showTitle": false,
     "title": ""
    }
   },
   "source": [
    "## Unpack acronyms\n",
    "\n",
    "This function helps unpack acronyms, or you can keep the acronyms packed if desires."
   ]
  },
  {
   "cell_type": "code",
   "execution_count": 0,
   "metadata": {
    "application/vnd.databricks.v1+cell": {
     "inputWidgets": {},
     "nuid": "292a4c5e-9e76-4837-b450-d1d1f0f09a0a",
     "showTitle": false,
     "title": ""
    }
   },
   "outputs": [
    {
     "data": {
      "text/html": [
       "<style scoped>\n",
       "  .ansiout {\n",
       "    display: block;\n",
       "    unicode-bidi: embed;\n",
       "    white-space: pre-wrap;\n",
       "    word-wrap: break-word;\n",
       "    word-break: break-all;\n",
       "    font-family: \"Source Code Pro\", \"Menlo\", monospace;;\n",
       "    font-size: 13px;\n",
       "    color: #555;\n",
       "    margin-left: 4px;\n",
       "    line-height: 19px;\n",
       "  }\n",
       "</style>\n",
       "<div class=\"ansiout\"></div>"
      ]
     },
     "metadata": {
      "application/vnd.databricks.v1+output": {
       "addedWidgets": {},
       "arguments": {},
       "data": "<div class=\"ansiout\"></div>",
       "datasetInfos": [],
       "metadata": {},
       "removedWidgets": [],
       "type": "html"
      }
     },
     "output_type": "display_data"
    }
   ],
   "source": [
    "#Acronyms\n",
    "acronyms = [(r\"(\\A|\\s)l(|\\s)c(\\s|$)\", \" lead car \"), #Often seems to be a space in here...\n",
    "             (r\"(\\A|\\s)tt(\\s|$)\", \" train technician \"),\n",
    "             (r\"(\\A|\\s)dva(\\s|$)\", \" digital voice announcer \"),\n",
    "             (r\"(\\A|\\s)lopl(\\s|$)\", \" loss of pilot light \"),\n",
    "             (r\"(\\A|\\s)cfs(\\s|$)\", \" cockfosters \"),\n",
    "             (r\"(\\A|\\s)nfs(\\s|$)\", \" northfields \"),\n",
    "             (r\"(\\A|\\s)nfd(\\s|$)\", \" northfields depot \"),\n",
    "             (r\"(\\A|\\s)pcm(\\s|$)\", \" pneumatic camshaft mechanism \"),\n",
    "             (r\"(\\A|\\s)vlcv(\\s|$)\", \" variable load control valve \"),\n",
    "             (r\"(\\A|\\s)pb(\\s|$)\", \" parking brake \"),\n",
    "             (r\"(\\A|\\s)fst(\\s|$)\", \" field shunt tips \"),\n",
    "             (r\"(\\A|\\s)act(\\s|$)\", \" acton \"),\n",
    "             (r\"(\\A|\\s)ddm(\\s|$)\", \" duty depot manager \"),\n",
    "             (r\"(\\A|\\s)cdu(\\s|$)\", \" cab display unit \"),\n",
    "             (r\"(\\A|\\s)spad(\\s|$)\", \" signal passed at danger \"),\n",
    "             (r\"(\\A|\\s)ndf(\\s|$)\", \" no defect found \"),\n",
    "             (r\"(\\A|\\s)e(|\\s)b(\\s|$)\", \" eastbound \"),\n",
    "             (r\"(\\A|\\s)w(|\\s)b(\\s|$)\", \" westbound \"),\n",
    "             (r\"(\\A|\\s)op(\\s|$)\", \" driver \"),\n",
    "             (r\"(\\A|\\s)operator(\\s|$)\", \" driver \"),\n",
    "             (r\"(\\A|\\s)t op(\\s|$)\", \" driver \"),\n",
    "             (r\"(\\A|\\s)con(\\s|$)\", \" control \"),\n",
    "             (r\"(\\A|\\s)cp(\\s|$)\", \" call point \"),\n",
    "             (r\"(\\A|\\s)unt(\\s|$)\", \" unit \"),\n",
    "             (r\"(\\A|\\s)oos(\\s|$)\", \" out of service \")\n",
    "            ]"
   ]
  },
  {
   "cell_type": "code",
   "execution_count": 0,
   "metadata": {
    "application/vnd.databricks.v1+cell": {
     "inputWidgets": {},
     "nuid": "7d47c8cf-3094-4ff6-83a1-9137aaf6aa15",
     "showTitle": false,
     "title": ""
    }
   },
   "outputs": [
    {
     "data": {
      "text/html": [
       "<style scoped>\n",
       "  .ansiout {\n",
       "    display: block;\n",
       "    unicode-bidi: embed;\n",
       "    white-space: pre-wrap;\n",
       "    word-wrap: break-word;\n",
       "    word-break: break-all;\n",
       "    font-family: \"Source Code Pro\", \"Menlo\", monospace;;\n",
       "    font-size: 13px;\n",
       "    color: #555;\n",
       "    margin-left: 4px;\n",
       "    line-height: 19px;\n",
       "  }\n",
       "</style>\n",
       "<div class=\"ansiout\"></div>"
      ]
     },
     "metadata": {
      "application/vnd.databricks.v1+output": {
       "addedWidgets": {},
       "arguments": {},
       "data": "<div class=\"ansiout\"></div>",
       "datasetInfos": [],
       "metadata": {},
       "removedWidgets": [],
       "type": "html"
      }
     },
     "output_type": "display_data"
    }
   ],
   "source": [
    "df['description'] = pp.unpack_acronyms(df['description'], acronyms)"
   ]
  },
  {
   "cell_type": "code",
   "execution_count": 0,
   "metadata": {
    "application/vnd.databricks.v1+cell": {
     "inputWidgets": {},
     "nuid": "d9a7040f-743e-46f3-80f1-ce2eb284a755",
     "showTitle": false,
     "title": ""
    }
   },
   "outputs": [
    {
     "data": {
      "text/html": [
       "<style scoped>\n",
       "  .ansiout {\n",
       "    display: block;\n",
       "    unicode-bidi: embed;\n",
       "    white-space: pre-wrap;\n",
       "    word-wrap: break-word;\n",
       "    word-break: break-all;\n",
       "    font-family: \"Source Code Pro\", \"Menlo\", monospace;;\n",
       "    font-size: 13px;\n",
       "    color: #555;\n",
       "    margin-left: 4px;\n",
       "    line-height: 19px;\n",
       "  }\n",
       "</style>\n",
       "<div class=\"ansiout\">Out[16]: &#39;call point car allegation whistle defect train car east anos grove driver whistle stopping continues blowing found whistle working well whistle continues sounding seconds when whistle does stop pop heard whistle valve unable reset valve&#39;</div>"
      ]
     },
     "metadata": {
      "application/vnd.databricks.v1+output": {
       "addedWidgets": {},
       "arguments": {},
       "data": "<div class=\"ansiout\">Out[16]: &#39;call point car allegation whistle defect train car east anos grove driver whistle stopping continues blowing found whistle working well whistle continues sounding seconds when whistle does stop pop heard whistle valve unable reset valve&#39;</div>",
       "datasetInfos": [],
       "metadata": {},
       "removedWidgets": [],
       "type": "html"
      }
     },
     "output_type": "display_data"
    }
   ],
   "source": [
    "df['description'].values[5]"
   ]
  },
  {
   "cell_type": "markdown",
   "metadata": {
    "application/vnd.databricks.v1+cell": {
     "inputWidgets": {},
     "nuid": "6a64587d-1255-4a02-96ba-8212f3d923d6",
     "showTitle": false,
     "title": ""
    }
   },
   "source": [
    "## Stemming\n",
    "\n",
    "Stemming removes the ends of words to try to keep only the root \"stem\" of them - e.g. \"trains\" becomes \"train\", or \"walking\" and \"walked\" becomes \"walk.\" There are two options for stemmers: `Porter` and `Snowball`, the latter of which is generally accepted to be more robust."
   ]
  },
  {
   "cell_type": "code",
   "execution_count": 0,
   "metadata": {
    "application/vnd.databricks.v1+cell": {
     "inputWidgets": {},
     "nuid": "03bd7d35-c273-4c9f-bfe2-02e1df2b61b6",
     "showTitle": false,
     "title": ""
    }
   },
   "outputs": [
    {
     "data": {
      "text/html": [
       "<style scoped>\n",
       "  .ansiout {\n",
       "    display: block;\n",
       "    unicode-bidi: embed;\n",
       "    white-space: pre-wrap;\n",
       "    word-wrap: break-word;\n",
       "    word-break: break-all;\n",
       "    font-family: \"Source Code Pro\", \"Menlo\", monospace;;\n",
       "    font-size: 13px;\n",
       "    color: #555;\n",
       "    margin-left: 4px;\n",
       "    line-height: 19px;\n",
       "  }\n",
       "</style>\n",
       "<div class=\"ansiout\"></div>"
      ]
     },
     "metadata": {
      "application/vnd.databricks.v1+output": {
       "addedWidgets": {},
       "arguments": {},
       "data": "<div class=\"ansiout\"></div>",
       "datasetInfos": [],
       "metadata": {},
       "removedWidgets": [],
       "type": "html"
      }
     },
     "output_type": "display_data"
    }
   ],
   "source": [
    "df['description'] = pp.do_stemming(df['description'], stemmer='Snowball')"
   ]
  },
  {
   "cell_type": "code",
   "execution_count": 0,
   "metadata": {
    "application/vnd.databricks.v1+cell": {
     "inputWidgets": {},
     "nuid": "2415a2a1-5c12-4061-bdca-f9b1635924a1",
     "showTitle": false,
     "title": ""
    }
   },
   "outputs": [
    {
     "data": {
      "text/html": [
       "<style scoped>\n",
       "  .ansiout {\n",
       "    display: block;\n",
       "    unicode-bidi: embed;\n",
       "    white-space: pre-wrap;\n",
       "    word-wrap: break-word;\n",
       "    word-break: break-all;\n",
       "    font-family: \"Source Code Pro\", \"Menlo\", monospace;;\n",
       "    font-size: 13px;\n",
       "    color: #555;\n",
       "    margin-left: 4px;\n",
       "    line-height: 19px;\n",
       "  }\n",
       "</style>\n",
       "<div class=\"ansiout\">Out[18]: &#39;call point car alleg whistl defect train car east ano grove driver whistl stop continu blow found whistl work well whistl continu sound second when whistl doe stop pop heard whistl valv unabl reset valv&#39;</div>"
      ]
     },
     "metadata": {
      "application/vnd.databricks.v1+output": {
       "addedWidgets": {},
       "arguments": {},
       "data": "<div class=\"ansiout\">Out[18]: &#39;call point car alleg whistl defect train car east ano grove driver whistl stop continu blow found whistl work well whistl continu sound second when whistl doe stop pop heard whistl valv unabl reset valv&#39;</div>",
       "datasetInfos": [],
       "metadata": {},
       "removedWidgets": [],
       "type": "html"
      }
     },
     "output_type": "display_data"
    }
   ],
   "source": [
    "df['description'].values[5]"
   ]
  },
  {
   "cell_type": "markdown",
   "metadata": {
    "application/vnd.databricks.v1+cell": {
     "inputWidgets": {},
     "nuid": "01502d68-bf57-4dc8-b02a-27f98388601a",
     "showTitle": false,
     "title": ""
    }
   },
   "source": [
    "## Lemmatizing\n",
    "\n",
    "Lemmatizing is similar to stemming with one extra step - it checks if the resulting word is in the English dictionary, and only stems if this is the case. This is a slower and less aggresive version of stemming."
   ]
  },
  {
   "cell_type": "code",
   "execution_count": 0,
   "metadata": {
    "application/vnd.databricks.v1+cell": {
     "inputWidgets": {},
     "nuid": "a5efd571-7283-486f-8940-354b95e90aff",
     "showTitle": false,
     "title": ""
    }
   },
   "outputs": [
    {
     "data": {
      "text/html": [
       "<style scoped>\n",
       "  .ansiout {\n",
       "    display: block;\n",
       "    unicode-bidi: embed;\n",
       "    white-space: pre-wrap;\n",
       "    word-wrap: break-word;\n",
       "    word-break: break-all;\n",
       "    font-family: \"Source Code Pro\", \"Menlo\", monospace;;\n",
       "    font-size: 13px;\n",
       "    color: #555;\n",
       "    margin-left: 4px;\n",
       "    line-height: 19px;\n",
       "  }\n",
       "</style>\n",
       "<div class=\"ansiout\"></div>"
      ]
     },
     "metadata": {
      "application/vnd.databricks.v1+output": {
       "addedWidgets": {},
       "arguments": {},
       "data": "<div class=\"ansiout\"></div>",
       "datasetInfos": [],
       "metadata": {},
       "removedWidgets": [],
       "type": "html"
      }
     },
     "output_type": "display_data"
    }
   ],
   "source": [
    "df['description'] = pp.do_lemmatizing(df, 'description')"
   ]
  },
  {
   "cell_type": "code",
   "execution_count": 0,
   "metadata": {
    "application/vnd.databricks.v1+cell": {
     "inputWidgets": {},
     "nuid": "cd85700c-35cc-49c5-99fc-ef770e0c45d9",
     "showTitle": false,
     "title": ""
    }
   },
   "outputs": [
    {
     "data": {
      "text/html": [
       "<style scoped>\n",
       "  .ansiout {\n",
       "    display: block;\n",
       "    unicode-bidi: embed;\n",
       "    white-space: pre-wrap;\n",
       "    word-wrap: break-word;\n",
       "    word-break: break-all;\n",
       "    font-family: \"Source Code Pro\", \"Menlo\", monospace;;\n",
       "    font-size: 13px;\n",
       "    color: #555;\n",
       "    margin-left: 4px;\n",
       "    line-height: 19px;\n",
       "  }\n",
       "</style>\n",
       "<div class=\"ansiout\">Out[20]: &#39;call point car alleg whistl defect train car east ano grove driver whistl stop continu blow find whistl work well whistl continu sound second when whistl doe stop pop heard whistl valv unabl reset valv&#39;</div>"
      ]
     },
     "metadata": {
      "application/vnd.databricks.v1+output": {
       "addedWidgets": {},
       "arguments": {},
       "data": "<div class=\"ansiout\">Out[20]: &#39;call point car alleg whistl defect train car east ano grove driver whistl stop continu blow find whistl work well whistl continu sound second when whistl doe stop pop heard whistl valv unabl reset valv&#39;</div>",
       "datasetInfos": [],
       "metadata": {},
       "removedWidgets": [],
       "type": "html"
      }
     },
     "output_type": "display_data"
    }
   ],
   "source": [
    "df['description'].values[5]"
   ]
  }
 ],
 "metadata": {
  "application/vnd.databricks.v1+notebook": {
   "dashboards": [],
   "language": "python",
   "notebookMetadata": {
    "pythonIndentUnit": 2
   },
   "notebookName": "example_notebook",
   "notebookOrigID": 2838524068702030,
   "widgets": {}
  },
  "kernelspec": {
   "display_name": "Python 3",
   "language": "python",
   "name": "python3"
  },
  "language_info": {
   "codemirror_mode": {
    "name": "ipython",
    "version": 3
   },
   "file_extension": ".py",
   "mimetype": "text/x-python",
   "name": "python",
   "nbconvert_exporter": "python",
   "pygments_lexer": "ipython3",
   "version": "3.8.5"
  }
 },
 "nbformat": 4,
 "nbformat_minor": 1
}
